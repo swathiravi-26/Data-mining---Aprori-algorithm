{
 "cells": [
  {
   "cell_type": "code",
   "execution_count": 68,
   "metadata": {},
   "outputs": [],
   "source": [
    "def load(file_name):\n",
    "    # store the gene expression file\n",
    "    file = open(file_name + \".txt\", \"r\")\n",
    "    data = [line.strip().split('\\t') for line in file.readlines()]\n",
    "    for x in range(len(data)):\n",
    "        flag=1\n",
    "        for y in range(len(data[x])):\n",
    "                data[x][y] = 'G' + str(flag) + '_' + data[x][y]\n",
    "                flag+=1                \n",
    "    \n",
    "    return data\n",
    "\n",
    "data = load(r\"C:\\Users\\17169\\Documents\\association-rule-test-data\")"
   ]
  },
  {
   "cell_type": "code",
   "execution_count": 69,
   "metadata": {},
   "outputs": [],
   "source": [
    "def get_support_count(input_list, dataset_list):\n",
    "    count = 0\n",
    "    for data_set in dataset_list:\n",
    "        if set(input_list).issubset(data_set):\n",
    "            count = count + 1\n",
    "    return count\n"
   ]
  },
  {
   "cell_type": "code",
   "execution_count": 70,
   "metadata": {},
   "outputs": [],
   "source": [
    "def generate_sets(size_of_set, previous_freq_dataset_list, dataset_list, support_count):\n",
    "    i = 0\n",
    "    list_of_sets = []\n",
    "    flag = False\n",
    "    if size_of_set == 1:\n",
    "        dic={}\n",
    "        for sample in dataset_list:\n",
    "            for gene in sample:\n",
    "                if gene in dic:\n",
    "                    dic.update({gene:dic.get(gene) +1})\n",
    "                else: \n",
    "                    dic.update({gene:1})\n",
    "        for key in list(dic.keys()):\n",
    "            if dic.get(key) < support_count:\n",
    "                del dic[key]      \n",
    "        return list(dic)\n",
    "    else:\n",
    "        for first_dataset in previous_freq_dataset_list[i:]:\n",
    "            for second_dataset in previous_freq_dataset_list[i+1:]:\n",
    "                if size_of_set == 2:\n",
    "                    pair = []\n",
    "                    pair.append(first_dataset)\n",
    "                    pair.append(second_dataset)\n",
    "                    if get_support_count(pair, dataset_list) >= support_count:\n",
    "                        list_of_sets.append(pair)\n",
    "                else:\n",
    "                    for ele in range(size_of_set - 2):\n",
    "                        if first_dataset[ele] != second_dataset[ele]:\n",
    "                            flag = True\n",
    "                            break\n",
    "                    if flag:\n",
    "                        flag = False\n",
    "                        break\n",
    "                    else:\n",
    "                        dataset = []\n",
    "                        dataset = dataset+first_dataset\n",
    "                        dataset.append(second_dataset[len(second_dataset) - 1])\n",
    "                        sc = get_support_count(dataset, dataset_list)\n",
    "                        if sc >= support_count:\n",
    "                            list_of_sets.append(dataset)\n",
    "            i = i + 1\n",
    "    return list_of_sets \n"
   ]
  },
  {
   "cell_type": "code",
   "execution_count": 71,
   "metadata": {},
   "outputs": [],
   "source": [
    "def calulate_frequent_set_count(support_count_percent, dataset_list):\n",
    "    frequency_dic = {}\n",
    "    support_count = int(support_count_percent*len(dataset_list)/100)\n",
    "    freq_set_length_count = 1\n",
    "    previous_freq_dataset_list = []\n",
    "    set_size = 1\n",
    "    while freq_set_length_count > 0:\n",
    "        previous_freq_dataset_list = generate_sets(set_size, previous_freq_dataset_list, dataset_list, support_count)\n",
    "        freq_set_length_count = len(previous_freq_dataset_list)\n",
    "        if freq_set_length_count > 0:\n",
    "            frequency_dic.update({set_size : freq_set_length_count})\n",
    "        set_size += 1\n",
    "    return frequency_dic"
   ]
  },
  {
   "cell_type": "code",
   "execution_count": 72,
   "metadata": {},
   "outputs": [],
   "source": [
    "length_dic = calulate_frequent_set_count(support, data)"
   ]
  },
  {
   "cell_type": "code",
   "execution_count": 73,
   "metadata": {},
   "outputs": [
    {
     "name": "stdout",
     "output_type": "stream",
     "text": [
      "number of length 1 frequent itemsets: 196\n",
      "number of length 2 frequent itemsets: 5340\n",
      "number of length 3 frequent itemsets: 5287\n",
      "number of length 4 frequent itemsets: 1518\n",
      "number of length 5 frequent itemsets: 438\n",
      "number of length 6 frequent itemsets: 88\n",
      "number of length 7 frequent itemsets: 11\n",
      "number of length 8 frequent itemsets: 1\n"
     ]
    }
   ],
   "source": [
    "for length in length_dic:\n",
    "\t\tprint(\"number of length\",length ,\"frequent itemsets:\", length_dic[length])"
   ]
  },
  {
   "cell_type": "code",
   "execution_count": 74,
   "metadata": {},
   "outputs": [],
   "source": [
    "def frequentSetGeneration(data, min_sup = 50):\n",
    "    min_sup /=100\n",
    "    K = 1\n",
    "    L = []\n",
    "    result = dict()\n",
    "    size = len(data)\n",
    "    L, dictionary = generate1ItemSet(data, min_sup)\n",
    "    result = dictionary\n",
    "    dataSet = convertToSet(data)\n",
    "    while True:\n",
    "        K += 1\n",
    "        l = set()\n",
    "        for a in L:\n",
    "            for b in L:\n",
    "                tmp = a | b\n",
    "                tmp = sorted(tmp)\n",
    "                if len(tmp) == K:\n",
    "                    l.add(frozenset(tmp))\n",
    "        L = []\n",
    "        for a in l:\n",
    "            count = 0\n",
    "            for i in dataSet:\n",
    "                if a.issubset(i):\n",
    "                    count+=1\n",
    "            if count/size >= min_sup:\n",
    "                L.append(a)\n",
    "                result[a] = count\n",
    "        if len(L) == 0:\n",
    "            break\n",
    "        else:\n",
    "            printUtil(L,len(L),K)\n",
    "    return result"
   ]
  },
  {
   "cell_type": "code",
   "execution_count": 75,
   "metadata": {},
   "outputs": [],
   "source": [
    "class AssocRule:\n",
    "\n",
    "    def __init__(self, min_sup, min_conf, filePath):\n",
    "        self.min_sup = min_sup\n",
    "        self.min_conf = min_conf\n",
    "        self.freqItemsets = frequentSetGeneration(data, min_sup = self.min_sup)\n",
    "        self.rules = []\n",
    "        self.associationRules()        \n",
    "\n",
    "    def associationRules(self):\n",
    "        for freqItemset in self.freqItemsets:\n",
    "            if len(freqItemset) > 1:\n",
    "                self.findRules(freqItemset)\n",
    "\n",
    "    def findRules(self, freqItemset):\n",
    "        size = len(freqItemset)\n",
    "        prev = []\n",
    "        for item in freqItemset:\n",
    "            tempItems = set(freqItemset)\n",
    "            tempItems.remove(item)\n",
    "            temp = [frozenset(tempItems), frozenset({item})]\n",
    "            if self.checkMinConfidence(temp):\n",
    "                self.rules.append(temp)\n",
    "                prev.append(temp)\n",
    "        \n",
    "        while size > 2:\n",
    "            temp = []\n",
    "            combinations = itertools.combinations(prev, 2)\n",
    "            for combination in combinations:\n",
    "                intersection = combination[0][0] & combination[1][0]\n",
    "                union = combination[0][1] | combination[1][1]\n",
    "                if len(intersection) == size - 2:\n",
    "                    tempList = [frozenset(set(intersection)), frozenset(set(union))]\n",
    "                    if self.checkMinConfidence(tempList):\n",
    "                        temp.append(tempList)\n",
    "\n",
    "            prev = temp\n",
    "            self.rules += temp\n",
    "\n",
    "            size -= 1\n",
    "\n",
    "    def checkMinConfidence(self, rule):\n",
    "        union = rule[0] | rule[1]\n",
    "        supCount = float(self.freqItemsets[union])\n",
    "        if (supCount / float(self.freqItemsets[rule[0]])) >= self.min_conf:\n",
    "            return True   \n",
    "        return False\n",
    "\n",
    "    def template1(self, cond, count, items):\n",
    "        result = []\n",
    "        for rule in self.rules:\n",
    "            if self.checkTemplate1(rule, cond, count, items):\n",
    "                result.append(rule)\n",
    "        result = self.removeDuplicates(result)\n",
    "        return result, len(result)\n",
    "\n",
    "    def checkTemplate1(self, rule, cond, count, items):\n",
    "        if cond == \"RULE\" and count == \"ANY\":\n",
    "            if len((rule[0] | rule[1]) & set(items)) > 0:\n",
    "                return True\n",
    "        elif cond == \"RULE\" and count == \"NONE\":\n",
    "            if len((rule[0] | rule[1]) & set(items)) == 0:\n",
    "                return True\n",
    "        elif cond == \"RULE\" and isinstance(count, int):\n",
    "            if len((rule[0] | rule[1]) & set(items)) == count:\n",
    "                return True\n",
    "        elif cond == \"HEAD\" and count == \"ANY\":\n",
    "            if len(rule[0] & set(items)) > 0:\n",
    "                return True\n",
    "        elif cond == \"HEAD\" and count == \"NONE\":\n",
    "            if len(rule[0] & set(items)) == 0:\n",
    "                return True\n",
    "        elif cond == \"HEAD\" and isinstance(count, int):\n",
    "            if len(rule[0] & set(items)) == count:\n",
    "                return True\n",
    "        elif cond == \"BODY\" and count == \"ANY\":\n",
    "            if len(rule[1] & set(items)) > 0:\n",
    "                return True\n",
    "        elif cond == \"BODY\" and count == \"NONE\":\n",
    "            if len(rule[1] & set(items)) == 0:\n",
    "                return True\n",
    "        elif cond == \"BODY\" and isinstance(count, int):\n",
    "            if len(rule[1] & set(items)) == count:\n",
    "                return True\n",
    "        return False\n",
    "        \n",
    "\n",
    "    def template2(self, cond, count):\n",
    "        result = []\n",
    "        for rule in self.rules:\n",
    "            if self.checkTemplate2(rule, cond, count):\n",
    "                result.append(rule)\n",
    "        result = self.removeDuplicates(result)\n",
    "        return result, len(result)\n",
    "\n",
    "    def checkTemplate2(self, rule, cond, count):\n",
    "        if cond == \"RULE\" and (len(rule[0]) + len(rule[1])) >= count:\n",
    "            return True\n",
    "        elif cond == \"HEAD\" and len(rule[0]) >= count:\n",
    "            return True\n",
    "        elif cond == \"BODY\" and len(rule[1]) >= count:\n",
    "            return True \n",
    "        return False\n",
    "\n",
    "    def template3(self, *args):\n",
    "        result = []\n",
    "        for rule in self.rules:\n",
    "            if self.checkTemplate3(rule, args):\n",
    "                result.append(rule)\n",
    "        result = self.removeDuplicates(result)\n",
    "        return result, len(result)\n",
    "\n",
    "    def checkTemplate3(self, rule, args):\n",
    "        condition = args[0]\n",
    "        if condition[0] == '1' and condition[-1] == '1':\n",
    "            res1 = self.checkTemplate1(rule, args[1], args[2], args[3])\n",
    "            res2 = self.checkTemplate1(rule, args[4], args[5], args[6])\n",
    "        elif condition[0] == '1' and condition[-1] == '2':\n",
    "            res1 = self.checkTemplate1(rule, args[1], args[2], args[3])\n",
    "            res2 = self.checkTemplate2(rule, args[4], args[5])\n",
    "        elif condition[0] == '2' and condition[-1] == '1':\n",
    "            res1 = self.checkTemplate2(rule, args[1], args[2])\n",
    "            res2 = self.checkTemplate1(rule, args[3], args[4], args[5])\n",
    "        elif condition[0] == '2' and condition[-1] == '2':\n",
    "            res1 = self.checkTemplate2(rule, args[1], args[2])\n",
    "            res2 = self.checkTemplate2(rule, args[3], args[4])\n",
    "\n",
    "        if condition[1:-1] == 'and':\n",
    "            return res1 and res2\n",
    "        elif condition[1:-1] == 'or':\n",
    "            return res1 or res2\n",
    "\n",
    "    def removeDuplicates(self, result):\n",
    "        resultList = set(tuple(x) for x in result)\n",
    "        return [list(x) for x in resultList]\n"
   ]
  },
  {
   "cell_type": "code",
   "execution_count": 76,
   "metadata": {},
   "outputs": [],
   "source": [
    "(result11, cnt) = asso_rule.template1(\"RULE\", \"ANY\", ['G59_Up'])"
   ]
  },
  {
   "cell_type": "code",
   "execution_count": 77,
   "metadata": {},
   "outputs": [
    {
     "name": "stdout",
     "output_type": "stream",
     "text": [
      "Number of length 2 frequent itemsets 63\n",
      "Number of length 3 frequent itemsets 2\n"
     ]
    }
   ],
   "source": [
    " asso_rule = AssocRule(float(min_sup), float(min_conf)/100, data)"
   ]
  },
  {
   "cell_type": "code",
   "execution_count": 78,
   "metadata": {},
   "outputs": [],
   "source": [
    "min_sup = 50"
   ]
  },
  {
   "cell_type": "code",
   "execution_count": 79,
   "metadata": {},
   "outputs": [],
   "source": [
    "min_conf = 70"
   ]
  },
  {
   "cell_type": "code",
   "execution_count": 80,
   "metadata": {},
   "outputs": [],
   "source": [
    "import itertools"
   ]
  },
  {
   "cell_type": "code",
   "execution_count": 81,
   "metadata": {},
   "outputs": [
    {
     "data": {
      "text/plain": [
       "[[frozenset({'G87_Up'}), frozenset({'G59_Up'})],\n",
       " [frozenset({'G59_Up'}), frozenset({'G82_Down'})],\n",
       " [frozenset({'G59_Up', 'G82_Down'}), frozenset({'G72_Up'})],\n",
       " [frozenset({'G59_Up', 'G96_Down'}), frozenset({'G72_Up'})],\n",
       " [frozenset({'G32_Down'}), frozenset({'G59_Up'})],\n",
       " [frozenset({'G96_Down'}), frozenset({'G59_Up', 'G72_Up'})],\n",
       " [frozenset({'G10_Down'}), frozenset({'G59_Up'})],\n",
       " [frozenset({'G82_Down'}), frozenset({'G59_Up', 'G72_Up'})],\n",
       " [frozenset({'G1_Up'}), frozenset({'G59_Up'})],\n",
       " [frozenset({'G72_Up'}), frozenset({'G59_Up', 'G82_Down'})],\n",
       " [frozenset({'G38_Down'}), frozenset({'G59_Up'})],\n",
       " [frozenset({'G72_Up'}), frozenset({'G59_Up'})],\n",
       " [frozenset({'G59_Up'}), frozenset({'G88_Down'})],\n",
       " [frozenset({'G59_Up', 'G72_Up'}), frozenset({'G96_Down'})],\n",
       " [frozenset({'G59_Up'}), frozenset({'G72_Up'})],\n",
       " [frozenset({'G72_Up', 'G82_Down'}), frozenset({'G59_Up'})],\n",
       " [frozenset({'G72_Up', 'G96_Down'}), frozenset({'G59_Up'})],\n",
       " [frozenset({'G6_Up'}), frozenset({'G59_Up'})],\n",
       " [frozenset({'G88_Down'}), frozenset({'G59_Up'})],\n",
       " [frozenset({'G59_Up'}), frozenset({'G96_Down'})],\n",
       " [frozenset({'G96_Down'}), frozenset({'G59_Up'})],\n",
       " [frozenset({'G13_Down'}), frozenset({'G59_Up'})],\n",
       " [frozenset({'G82_Down'}), frozenset({'G59_Up'})],\n",
       " [frozenset({'G59_Up'}), frozenset({'G13_Down'})],\n",
       " [frozenset({'G28_Down'}), frozenset({'G59_Up'})],\n",
       " [frozenset({'G59_Up', 'G72_Up'}), frozenset({'G82_Down'})]]"
      ]
     },
     "execution_count": 81,
     "metadata": {},
     "output_type": "execute_result"
    }
   ],
   "source": [
    "result11"
   ]
  },
  {
   "cell_type": "code",
   "execution_count": null,
   "metadata": {},
   "outputs": [],
   "source": []
  },
  {
   "cell_type": "code",
   "execution_count": 83,
   "metadata": {},
   "outputs": [
    {
     "data": {
      "text/plain": [
       "26"
      ]
     },
     "execution_count": 83,
     "metadata": {},
     "output_type": "execute_result"
    }
   ],
   "source": [
    "cnt"
   ]
  },
  {
   "cell_type": "code",
   "execution_count": null,
   "metadata": {},
   "outputs": [],
   "source": []
  }
 ],
 "metadata": {
  "kernelspec": {
   "display_name": "Python 3",
   "language": "python",
   "name": "python3"
  },
  "language_info": {
   "codemirror_mode": {
    "name": "ipython",
    "version": 3
   },
   "file_extension": ".py",
   "mimetype": "text/x-python",
   "name": "python",
   "nbconvert_exporter": "python",
   "pygments_lexer": "ipython3",
   "version": "3.7.6"
  }
 },
 "nbformat": 4,
 "nbformat_minor": 4
}
